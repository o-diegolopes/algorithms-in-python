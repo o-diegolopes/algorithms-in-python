{
 "cells": [
  {
   "cell_type": "code",
   "execution_count": 19,
   "id": "433f4330",
   "metadata": {},
   "outputs": [],
   "source": [
    "import numpy as np"
   ]
  },
  {
   "cell_type": "code",
   "execution_count": 31,
   "id": "267d1ef0",
   "metadata": {},
   "outputs": [],
   "source": [
    "random_list = np.random.randint(1000, size=10)"
   ]
  },
  {
   "cell_type": "code",
   "execution_count": 33,
   "id": "01eb2a4b",
   "metadata": {},
   "outputs": [
    {
     "data": {
      "text/plain": [
       "array([962,  45, 187, 724, 106, 170, 996, 734, 645, 784])"
      ]
     },
     "execution_count": 33,
     "metadata": {},
     "output_type": "execute_result"
    }
   ],
   "source": [
    "random_list"
   ]
  }
 ],
 "metadata": {
  "kernelspec": {
   "display_name": "Python 3 (ipykernel)",
   "language": "python",
   "name": "python3"
  },
  "language_info": {
   "codemirror_mode": {
    "name": "ipython",
    "version": 3
   },
   "file_extension": ".py",
   "mimetype": "text/x-python",
   "name": "python",
   "nbconvert_exporter": "python",
   "pygments_lexer": "ipython3",
   "version": "3.9.7"
  }
 },
 "nbformat": 4,
 "nbformat_minor": 5
}
